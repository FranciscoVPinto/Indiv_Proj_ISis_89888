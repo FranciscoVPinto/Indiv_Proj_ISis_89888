{
 "cells": [
  {
   "cell_type": "code",
   "execution_count": 6,
   "metadata": {},
   "outputs": [],
   "source": [
    "import pandas as pd\n",
    "import numpy as np\n",
    "from sklearn.model_selection import train_test_split\n",
    "from pyfume.Clustering import Clusterer\n",
    "from pyfume.EstimateAntecendentSet import AntecedentEstimator\n",
    "from pyfume.EstimateConsequentParameters import ConsequentEstimator\n",
    "from pyfume.SimpfulModelBuilder import SugenoFISBuilder\n",
    "from pyfume.Tester import SugenoFISTester\n",
    "from sklearn.metrics import accuracy_score, recall_score, precision_score, f1_score, cohen_kappa_score\n",
    "from numpy import clip, column_stack, argmax\n"
   ]
  },
  {
   "cell_type": "code",
   "execution_count": 7,
   "metadata": {},
   "outputs": [],
   "source": [
    "# %% Load dataset and create train-test sets\n",
    "Train = pd.read_csv('dataTrain.csv')\n",
    "Test = pd.read_csv('dataTest.csv')"
   ]
  },
  {
   "cell_type": "code",
   "execution_count": 8,
   "metadata": {},
   "outputs": [],
   "source": [
    "# Prepare the data\n",
    "X_train = Train.drop('STATUS', axis=1).to_numpy()\n",
    "y_train = Train['STATUS'].to_numpy()\n",
    "X_test = Test.drop('STATUS', axis=1).to_numpy()\n",
    "y_test = Test['STATUS'].to_numpy()\n",
    "\n",
    "var_names = Train.columns[:-1].to_list()"
   ]
  },
  {
   "cell_type": "code",
   "execution_count": 9,
   "metadata": {},
   "outputs": [],
   "source": [
    "# %% Function to train Takagi-Sugeno Model\n",
    "def train_takagi_sugeno(X_train, y_train, X_test, y_test, num_clusters=10, method='fcm'):\n",
    "   \n",
    "    # Cluster the input-output space\n",
    "    cl = Clusterer(x_train=X_train, y_train=y_train, nr_clus=num_clusters)\n",
    "    clust_centers, part_matrix, _ = cl.cluster(method=method)\n",
    "\n",
    "    # Estimate membership functions parameters\n",
    "    ae = AntecedentEstimator(X_train, part_matrix)\n",
    "    antecedent_params = ae.determineMF()\n",
    "\n",
    "    # Estimate consequent parameters\n",
    "    ce = ConsequentEstimator(X_train, y_train, part_matrix)\n",
    "    conseq_params = ce.suglms()\n",
    "\n",
    "    # Build the Sugeno FIS model\n",
    "    modbuilder = SugenoFISBuilder(antecedent_params, conseq_params, var_names, save_simpful_code=False)\n",
    "    model = modbuilder.get_model()\n",
    "\n",
    "    # Get model predictions\n",
    "    modtester = SugenoFISTester(model, X_test, var_names)\n",
    "    y_pred_probs = clip(modtester.predict()[0], 0, 1)\n",
    "    y_pred_probs = column_stack((1 - y_pred_probs, y_pred_probs))\n",
    "    y_pred = argmax(y_pred_probs, axis=1)\n",
    "\n",
    "    # Compute classification metrics\n",
    "    metrics = {\n",
    "        \"Accuracy\": accuracy_score(y_test, y_pred),\n",
    "        \"Recall\": recall_score(y_test, y_pred),\n",
    "        \"Precision\": precision_score(y_test, y_pred),\n",
    "        \"F1-Score\": f1_score(y_test, y_pred),\n",
    "        \"Kappa\": cohen_kappa_score(y_test, y_pred),\n",
    "    }\n",
    "\n",
    "    return metrics"
   ]
  },
  {
   "cell_type": "code",
   "execution_count": 10,
   "metadata": {},
   "outputs": [
    {
     "name": "stdout",
     "output_type": "stream",
     "text": [
      "Training with method: fcm\n",
      " * Detected 10 rules / clusters\n",
      " * Detected Sugeno model type\n",
      "Accuracy: 0.876\n",
      "Recall: 0.846\n",
      "Precision: 0.905\n",
      "F1-Score: 0.874\n",
      "Kappa: 0.753\n",
      "----------------------------------------\n",
      "Summary of Results:\n",
      "Method: fcm\n",
      "  Accuracy: 0.876\n",
      "  Recall: 0.846\n",
      "  Precision: 0.905\n",
      "  F1-Score: 0.874\n",
      "  Kappa: 0.753\n",
      "----------------------------------------\n"
     ]
    }
   ],
   "source": [
    "methods = ['fcm']  \n",
    "results = {}\n",
    "\n",
    "for method in methods:\n",
    "    print(f\"Training with method: {method}\")\n",
    "    try:\n",
    "        metrics = train_takagi_sugeno(X_train, y_train, X_test, y_test, num_clusters=10, method=method)\n",
    "        results[method] = metrics\n",
    "        for metric, value in metrics.items():\n",
    "            print(f\"{metric}: {value:.3f}\")\n",
    "    except Exception as e:\n",
    "        print(f\"Failed with method '{method}': {e}\")\n",
    "    print(\"-\" * 40)\n",
    "\n",
    "print(\"Summary of Results:\")\n",
    "for method, metrics in results.items():\n",
    "    print(f\"Method: {method}\")\n",
    "    for metric, value in metrics.items():\n",
    "        print(f\"  {metric}: {value:.3f}\")\n",
    "    print(\"-\" * 40)\n"
   ]
  },
  {
   "cell_type": "code",
   "execution_count": null,
   "metadata": {},
   "outputs": [],
   "source": []
  },
  {
   "cell_type": "code",
   "execution_count": null,
   "metadata": {},
   "outputs": [],
   "source": []
  }
 ],
 "metadata": {
  "kernelspec": {
   "display_name": "IntelSis",
   "language": "python",
   "name": "python3"
  },
  "language_info": {
   "codemirror_mode": {
    "name": "ipython",
    "version": 3
   },
   "file_extension": ".py",
   "mimetype": "text/x-python",
   "name": "python",
   "nbconvert_exporter": "python",
   "pygments_lexer": "ipython3",
   "version": "3.12.2"
  }
 },
 "nbformat": 4,
 "nbformat_minor": 4
}
