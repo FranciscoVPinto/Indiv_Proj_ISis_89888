{
 "cells": [
  {
   "cell_type": "markdown",
   "metadata": {},
   "source": [
    "# Importing libraries and dataset"
   ]
  },
  {
   "cell_type": "code",
   "execution_count": 1,
   "metadata": {},
   "outputs": [],
   "source": [
    "import pandas as pd\n",
    "import numpy as np\n",
    "import matplotlib.pyplot as plt\n",
    "import seaborn as sns\n",
    "from sklearn.model_selection import train_test_split\n",
    "from sklearn.feature_selection import RFECV\n",
    "from sklearn.linear_model import LogisticRegression\n",
    "from sklearn.model_selection import StratifiedKFold, KFold\n",
    "from sklearn.preprocessing import StandardScaler, MinMaxScaler\n",
    "from sklearn.preprocessing import LabelEncoder\n",
    "\n",
    "data = pd.read_excel('Acoustic_Extinguisher_Fire_Dataset.xlsx')"
   ]
  },
  {
   "cell_type": "markdown",
   "metadata": {},
   "source": [
    "# Explorative Data Analysis"
   ]
  },
  {
   "cell_type": "code",
   "execution_count": null,
   "metadata": {},
   "outputs": [],
   "source": [
    "def plot_histograms(data):\n",
    "    numeric_variables = data.select_dtypes(include=['number']).columns.tolist()\n",
    "    categorical_variables = [i for i in data.columns if i not in numeric_variables]\n",
    "    \n",
    "    fig, axs = plt.subplots(1, len(numeric_variables), figsize=(15, 5))\n",
    "    if len(numeric_variables) == 1:  \n",
    "        axs = [axs]\n",
    "    \n",
    "    for ax, var in zip(axs, numeric_variables):\n",
    "        data[var].plot(kind='hist', ax=ax, bins=20, color='tab:blue', alpha=0.7)\n",
    "        ax.set_title(f'Histogram of {var}')\n",
    "        ax.set_xlabel(var)\n",
    "        ax.set_ylabel('Frequency')\n",
    "    \n",
    "    plt.tight_layout()\n",
    "    plt.show()\n",
    "\n",
    "    \n",
    "    fig, axs = plt.subplots(1, len(categorical_variables), figsize=(15, 5))\n",
    "    if len(categorical_variables) == 1:  \n",
    "        axs = [axs]\n",
    "    \n",
    "    for ax, var in zip(axs, categorical_variables):\n",
    "        \n",
    "        value_counts = data[var].fillna('Missing').value_counts()\n",
    "        value_counts.plot(kind='bar', ax=ax, color='tab:orange', alpha=0.7)\n",
    "        ax.set_title(f'Bar Plot of {var}')\n",
    "        ax.set_xlabel(var)\n",
    "        ax.set_ylabel('Frequency')\n",
    "        \n",
    "        \n",
    "        ax.tick_params(axis='x', rotation=45)\n",
    "    \n",
    "    plt.tight_layout()\n",
    "    plt.show()\n",
    "\n",
    "plot_histograms(data)\n"
   ]
  },
  {
   "cell_type": "markdown",
   "metadata": {},
   "source": [
    "# Feature Engineering"
   ]
  },
  {
   "cell_type": "code",
   "execution_count": 3,
   "metadata": {},
   "outputs": [],
   "source": [
    "fuel_mapping = {\n",
    "    'gasoline': 1,\n",
    "    'kerosene': 2,\n",
    "    'lpg': 3,\n",
    "    'thinner': 4\n",
    "}\n",
    "\n",
    "data['FUEL_encoded'] = data['FUEL'].map(fuel_mapping)\n",
    "\n",
    "data = data.drop('FUEL', axis=1)"
   ]
  },
  {
   "cell_type": "markdown",
   "metadata": {},
   "source": [
    "## Train-Test Split"
   ]
  },
  {
   "cell_type": "code",
   "execution_count": null,
   "metadata": {},
   "outputs": [],
   "source": [
    "X = data.drop('STATUS', axis=1)\n",
    "y = data['STATUS']\n",
    "\n",
    "X.shape\n",
    "\n",
    "X_train, X_test, y_train, y_test = train_test_split(X, y, test_size = 0.2, random_state = 42)\n",
    "X_train.shape, X_test.shape, y_train.shape, y_test.shape"
   ]
  },
  {
   "cell_type": "code",
   "execution_count": null,
   "metadata": {},
   "outputs": [],
   "source": [
    "X_train.head()"
   ]
  },
  {
   "cell_type": "markdown",
   "metadata": {},
   "source": [
    "## Target Balance"
   ]
  },
  {
   "cell_type": "code",
   "execution_count": null,
   "metadata": {},
   "outputs": [],
   "source": [
    "(y_train == 0).sum(), (y_train == 1).sum()"
   ]
  },
  {
   "cell_type": "code",
   "execution_count": null,
   "metadata": {},
   "outputs": [],
   "source": [
    "plt.figure(figsize=(6, 4))\n",
    "value_counts = y_train.value_counts()\n",
    "ax = value_counts.plot(kind='bar')\n",
    "plt.xlabel('Class')\n",
    "plt.ylabel('Frequency')\n",
    "plt.title('Histogram of the target variable')\n",
    "plt.xticks([0, 1], ['0', '1'], rotation=0)  # Set x-tick labels as 0 and 1\n",
    "\n",
    "# Add count on top of each bar\n",
    "for index, value in enumerate(value_counts):\n",
    "    ax.text(index, value + 0.1, str(value), ha='center', va='bottom')\n",
    "\n",
    "plt.show()"
   ]
  },
  {
   "cell_type": "markdown",
   "metadata": {},
   "source": [
    "## Scaling/Transformations"
   ]
  },
  {
   "cell_type": "code",
   "execution_count": 8,
   "metadata": {},
   "outputs": [],
   "source": [
    "scaler = StandardScaler()\n",
    "\n",
    "\n",
    "X_train = pd.DataFrame(scaler.fit_transform(X_train), columns=X_train.columns)\n",
    "\n",
    "X_test = pd.DataFrame(scaler.transform(X_test), columns=X_train.columns)"
   ]
  },
  {
   "cell_type": "code",
   "execution_count": null,
   "metadata": {},
   "outputs": [],
   "source": [
    "X_train.head()"
   ]
  },
  {
   "cell_type": "code",
   "execution_count": 10,
   "metadata": {},
   "outputs": [],
   "source": [
    "stats = pd.DataFrame([X_train.columns, scaler.mean_, scaler.var_])\n",
    "stats = stats.T\n",
    "stats.columns = ['Feature', 'Mean', 'Variance']\n",
    "stats.to_csv('stats.csv', index = True)"
   ]
  },
  {
   "cell_type": "markdown",
   "metadata": {},
   "source": [
    "# Feature Selection"
   ]
  },
  {
   "cell_type": "markdown",
   "metadata": {},
   "source": [
    "### Correlation Values"
   ]
  },
  {
   "cell_type": "code",
   "execution_count": null,
   "metadata": {},
   "outputs": [],
   "source": [
    "numeric_variables = X_train.select_dtypes(include=['number']).columns\n",
    "\n",
    "correlation_matrix = X_train[numeric_variables].corr(method='pearson')\n",
    "\n",
    "plt.figure(figsize=(10, 8))\n",
    "sns.heatmap(correlation_matrix, annot=True, cmap='coolwarm', center=0, linewidths=0.5)\n",
    "plt.title('Pearson Correlation Matrix for All Numeric Variables')\n",
    "plt.show()\n"
   ]
  },
  {
   "cell_type": "markdown",
   "metadata": {},
   "source": [
    "There isn't any pair of features with a significantly high Pearson correlation value in order to justify removal"
   ]
  },
  {
   "cell_type": "markdown",
   "metadata": {},
   "source": [
    "### RFE"
   ]
  },
  {
   "cell_type": "code",
   "execution_count": null,
   "metadata": {},
   "outputs": [],
   "source": [
    "model = LogisticRegression(max_iter=1000)\n",
    "\n",
    "cv = StratifiedKFold(5)\n",
    "\n",
    "rfecv = RFECV(estimator=model, step=1, cv=cv, scoring='accuracy')\n",
    "\n",
    "rfecv.fit(X_train , y_train)\n",
    "\n",
    "selected_features = X.columns[rfecv.support_]\n",
    "\n",
    "print(\"Optimal number of features:\", rfecv.n_features_)\n",
    "\n",
    "X_train = X_train[selected_features]\n",
    "X_test = X_test[selected_features]"
   ]
  },
  {
   "cell_type": "markdown",
   "metadata": {},
   "source": [
    "# Exporting the final dataframes"
   ]
  },
  {
   "cell_type": "code",
   "execution_count": 13,
   "metadata": {},
   "outputs": [],
   "source": [
    "X_train.reset_index(drop=True, inplace=True)\n",
    "y_train.reset_index(drop=True, inplace=True)\n",
    "X_test.reset_index(drop=True, inplace=True)\n",
    "y_test.reset_index(drop=True, inplace=True)\n",
    "\n",
    "dataTrain = pd.concat([X_train, y_train], axis=1)\n",
    "dataTest = pd.concat([X_test, y_test], axis=1)\n",
    "\n",
    "dataTrain.to_csv('dataTrain.csv', index=False)\n",
    "dataTest.to_csv('dataTest.csv', index=False)"
   ]
  }
 ],
 "metadata": {
  "kernelspec": {
   "display_name": "IntelSis",
   "language": "python",
   "name": "python3"
  },
  "language_info": {
   "codemirror_mode": {
    "name": "ipython",
    "version": 3
   },
   "file_extension": ".py",
   "mimetype": "text/x-python",
   "name": "python",
   "nbconvert_exporter": "python",
   "pygments_lexer": "ipython3",
   "version": "3.12.2"
  }
 },
 "nbformat": 4,
 "nbformat_minor": 4
}
