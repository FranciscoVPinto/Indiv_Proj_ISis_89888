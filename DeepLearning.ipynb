{
 "cells": [
  {
   "cell_type": "code",
   "execution_count": 1,
   "metadata": {},
   "outputs": [],
   "source": [
    "import numpy as np\n",
    "import pandas as pd\n",
    "from sklearn.model_selection import KFold\n",
    "from sklearn.metrics import accuracy_score, recall_score, precision_score, f1_score, cohen_kappa_score\n",
    "from sklearn.neural_network import MLPClassifier\n",
    "from tensorflow.keras.models import Sequential\n",
    "from tensorflow.keras.layers import Dense, Dropout, Reshape, Input, LSTM, Conv1D, MaxPooling1D, Flatten"
   ]
  },
  {
   "cell_type": "code",
   "execution_count": 2,
   "metadata": {
    "scrolled": true
   },
   "outputs": [],
   "source": [
    "Train = pd.read_csv('dataTrain.csv')\n",
    "Test = pd.read_csv('dataTest.csv')\n",
    "\n",
    "X_train = Train.drop('STATUS', axis=1)\n",
    "y_train = Train['STATUS']\n",
    "\n",
    "X_test = Test.drop('STATUS', axis=1)\n",
    "y_test = Test['STATUS']"
   ]
  },
  {
   "cell_type": "code",
   "execution_count": 3,
   "metadata": {},
   "outputs": [
    {
     "name": "stdout",
     "output_type": "stream",
     "text": [
      "DNN Results:\n",
      "Average Accuracy: 0.957 ± 0.004\n",
      "Average Recall: 0.947 ± 0.013\n",
      "Average Precision: 0.965 ± 0.013\n",
      "Average F1-Score: 0.956 ± 0.004\n",
      "Average Kappa: 0.914 ± 0.007\n",
      "\n"
     ]
    }
   ],
   "source": [
    "def train_dnn(X, y, n_splits=5):\n",
    "    kf = KFold(n_splits=n_splits, shuffle=True, random_state=1)\n",
    "    \n",
    "    accuracies = []\n",
    "    recalls = []\n",
    "    precisions = []\n",
    "    f1_scores = []\n",
    "    kappas = []\n",
    "\n",
    "    model = Sequential([\n",
    "        Input(shape=(X.shape[1],)),\n",
    "        Dense(64, activation='relu'),\n",
    "        Dense(32, activation='relu'),\n",
    "        Dense(16, activation='relu'),\n",
    "        Dense(1, activation='sigmoid')\n",
    "    ])\n",
    "    \n",
    "    model.compile(optimizer='adam', loss='binary_crossentropy')\n",
    "\n",
    "    for train_index, test_index in kf.split(X):\n",
    "        X_train_fold, X_test_fold = X.iloc[train_index], X.iloc[test_index]\n",
    "        y_train_fold, y_test_fold = y.iloc[train_index], y.iloc[test_index]\n",
    "        \n",
    "        model.set_weights([np.random.permutation(w.flatten()).reshape(w.shape) for w in model.get_weights()])\n",
    "\n",
    "        model.fit(X_train_fold, y_train_fold, epochs=20, batch_size=32, verbose=0)\n",
    "        \n",
    "        y_pred = (model.predict(X_test_fold, verbose=0) > 0.5).astype(\"int32\")\n",
    "\n",
    "        accuracies.append(accuracy_score(y_test_fold, y_pred))\n",
    "        recalls.append(recall_score(y_test_fold, y_pred))\n",
    "        precisions.append(precision_score(y_test_fold, y_pred))\n",
    "        f1_scores.append(f1_score(y_test_fold, y_pred))\n",
    "        kappas.append(cohen_kappa_score(y_test_fold, y_pred))\n",
    "\n",
    "\n",
    "    print(\"DNN Results:\")\n",
    "    print(f\"Average Accuracy: {np.mean(accuracies):.3f} ± {np.std(accuracies):.3f}\")\n",
    "    print(f\"Average Recall: {np.mean(recalls):.3f} ± {np.std(recalls):.3f}\")\n",
    "    print(f\"Average Precision: {np.mean(precisions):.3f} ± {np.std(recalls):.3f}\")\n",
    "    print(f\"Average F1-Score: {np.mean(f1_scores):.3f} ± {np.std(f1_scores):.3f}\")\n",
    "    print(f\"Average Kappa: {np.mean(kappas):.3f} ± {np.std(kappas):.3f}\\n\")\n",
    "\n",
    "train_dnn(X_train, y_train)"
   ]
  },
  {
   "cell_type": "code",
   "execution_count": 4,
   "metadata": {},
   "outputs": [
    {
     "name": "stdout",
     "output_type": "stream",
     "text": [
      "MLP Architecture: [5]\n",
      "Average Accuracy: 0.916 ± 0.011\n",
      "Average Recall: 0.916 ± 0.011\n",
      "Average Precision: 0.916 ± 0.011\n",
      "Average F1-Score: 0.916 ± 0.011\n",
      "Average Kappa: 0.831 ± 0.023\n",
      "\n",
      "MLP Architecture: [10]\n",
      "Average Accuracy: 0.935 ± 0.004\n",
      "Average Recall: 0.935 ± 0.004\n",
      "Average Precision: 0.935 ± 0.004\n",
      "Average F1-Score: 0.935 ± 0.004\n",
      "Average Kappa: 0.870 ± 0.007\n",
      "\n",
      "MLP Architecture: [5, 5]\n",
      "Average Accuracy: 0.926 ± 0.005\n",
      "Average Recall: 0.926 ± 0.005\n",
      "Average Precision: 0.926 ± 0.005\n",
      "Average F1-Score: 0.926 ± 0.005\n",
      "Average Kappa: 0.852 ± 0.010\n",
      "\n",
      "MLP Architecture: [5, 10]\n",
      "Average Accuracy: 0.924 ± 0.005\n",
      "Average Recall: 0.924 ± 0.005\n",
      "Average Precision: 0.924 ± 0.005\n",
      "Average F1-Score: 0.924 ± 0.005\n",
      "Average Kappa: 0.849 ± 0.010\n",
      "\n",
      "MLP Architecture: [10, 10]\n",
      "Average Accuracy: 0.950 ± 0.005\n",
      "Average Recall: 0.950 ± 0.005\n",
      "Average Precision: 0.950 ± 0.005\n",
      "Average F1-Score: 0.950 ± 0.005\n",
      "Average Kappa: 0.901 ± 0.009\n",
      "\n"
     ]
    }
   ],
   "source": [
    "def train_mlp(hidden_layer_sizes, X, y, n_splits=5):\n",
    "    kf = KFold(n_splits=n_splits, shuffle=True, random_state=1)\n",
    "    \n",
    "    accuracies = []\n",
    "    recalls = []\n",
    "    precisions = []\n",
    "    f1_scores = []\n",
    "    kappas = []\n",
    "    \n",
    "    for train_index, test_index in kf.split(X):\n",
    "        X_train2, X_test2 = X.iloc[train_index], X.iloc[test_index]\n",
    "        y_train2, y_test2 = y.iloc[train_index], y.iloc[test_index]\n",
    "\n",
    "        model = MLPClassifier(hidden_layer_sizes=hidden_layer_sizes, random_state=1, max_iter=5000)\n",
    "        model.fit(X_train2, y_train2)\n",
    "\n",
    "        y_pred = model.predict(X_test2)\n",
    "\n",
    "        accuracies.append(accuracy_score(y_test2, y_pred))\n",
    "        recalls.append(recall_score(y_test2, y_pred, average='weighted'))\n",
    "        precisions.append(precision_score(y_test2, y_pred, average='weighted'))\n",
    "        f1_scores.append(f1_score(y_test2, y_pred, average='weighted'))\n",
    "        kappas.append(cohen_kappa_score(y_test2, y_pred))\n",
    "\n",
    "\n",
    "    print(f'MLP Architecture: {hidden_layer_sizes}')\n",
    "    print(f\"Average Accuracy: {np.mean(accuracies):.3f} ± {np.std(accuracies):.3f}\")\n",
    "    print(f\"Average Recall: {np.mean(recalls):.3f} ± {np.std(recalls):.3f}\")\n",
    "    print(f\"Average Precision: {np.mean(precisions):.3f} ± {np.std(precisions):.3f}\")\n",
    "    print(f\"Average F1-Score: {np.mean(f1_scores):.3f} ± {np.std(f1_scores):.3f}\")\n",
    "    print(f\"Average Kappa: {np.mean(kappas):.3f} ± {np.std(kappas):.3f}\\n\")\n",
    "\n",
    "Architectures = [[5], [10], [5, 5], [5, 10], [10, 10]]\n",
    "for arch in Architectures:\n",
    "    train_mlp(arch, X_train, y_train)\n",
    "\n"
   ]
  }
 ],
 "metadata": {
  "kernelspec": {
   "display_name": "IntelSis",
   "language": "python",
   "name": "python3"
  },
  "language_info": {
   "codemirror_mode": {
    "name": "ipython",
    "version": 3
   },
   "file_extension": ".py",
   "mimetype": "text/x-python",
   "name": "python",
   "nbconvert_exporter": "python",
   "pygments_lexer": "ipython3",
   "version": "3.12.2"
  }
 },
 "nbformat": 4,
 "nbformat_minor": 4
}
