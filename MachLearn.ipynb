{
 "cells": [
  {
   "cell_type": "markdown",
   "metadata": {},
   "source": [
    "## Importing Data and Libraries"
   ]
  },
  {
   "cell_type": "code",
   "execution_count": 22,
   "metadata": {},
   "outputs": [],
   "source": [
    "import pandas as pd\n",
    "import numpy as np\n",
    "import tensorflow as tf\n",
    "from sklearn.metrics import (\n",
    "    accuracy_score, \n",
    "    recall_score, \n",
    "    precision_score, \n",
    "    f1_score, \n",
    "    cohen_kappa_score\n",
    ")\n",
    "from sklearn.model_selection import GridSearchCV, KFold\n",
    "from sklearn.linear_model import LogisticRegression\n",
    "from sklearn.ensemble import RandomForestClassifier\n",
    "from sklearn.svm import SVC\n",
    "\n",
    "import numpy as np\n",
    "from sklearn.linear_model import LogisticRegression\n",
    "from sklearn.multiclass import OneVsRestClassifier\n",
    "from sklearn.model_selection import GridSearchCV\n",
    "from sklearn.metrics import (\n",
    "    make_scorer,\n",
    "    accuracy_score,\n",
    "    recall_score,\n",
    "    precision_score,\n",
    "    f1_score,\n",
    "    cohen_kappa_score,\n",
    ")\n",
    "\n"
   ]
  },
  {
   "cell_type": "code",
   "execution_count": 23,
   "metadata": {},
   "outputs": [],
   "source": [
    "Train = pd.read_csv('dataTrain.csv')\n",
    "Test = pd.read_csv('dataTest.csv')\n",
    "\n",
    "X_train = Train.drop('STATUS', axis=1)\n",
    "y_train = Train['STATUS']\n",
    "\n",
    "X_test = Test.drop('STATUS', axis=1)\n",
    "y_test = Test['STATUS']"
   ]
  },
  {
   "cell_type": "code",
   "execution_count": 24,
   "metadata": {},
   "outputs": [],
   "source": [
    "X_train = X_train.to_numpy()\n",
    "X_test = X_test.to_numpy()\n",
    "y_train = y_train.array\n",
    "y_test = y_test.array"
   ]
  },
  {
   "cell_type": "markdown",
   "metadata": {},
   "source": [
    "## Building the model"
   ]
  },
  {
   "cell_type": "markdown",
   "metadata": {},
   "source": [
    "### Logistic Regression"
   ]
  },
  {
   "cell_type": "code",
   "execution_count": 25,
   "metadata": {},
   "outputs": [],
   "source": [
    "from sklearn.linear_model import LogisticRegression\n",
    "from sklearn.model_selection import GridSearchCV\n",
    "from sklearn.metrics import accuracy_score, make_scorer\n",
    "\n",
    "def train_logistic_regression(X, y):\n",
    "    # Define a simplified hyperparameter grid\n",
    "    param_grid = {\n",
    "        \"penalty\": [\"l2\"],\n",
    "        \"solver\": [\"lbfgs\"],  # Default solver for `l2`\n",
    "        \"C\": [1, 10],        # Fewer options for regularization strength\n",
    "    }\n",
    "\n",
    "    # Define a single scoring metric\n",
    "    scoring = make_scorer(accuracy_score)\n",
    "\n",
    "    # Initialize Logistic Regression\n",
    "    model = LogisticRegression(max_iter=500)  # Adjust iterations if necessary\n",
    "\n",
    "    # Perform Grid Search with fewer folds\n",
    "    grid_search = GridSearchCV(\n",
    "        estimator=model,\n",
    "        param_grid=param_grid,\n",
    "        scoring=scoring,\n",
    "        n_jobs=-1,\n",
    "        cv=3,                # Reduced cross-validation folds\n",
    "        verbose=1\n",
    "    )\n",
    "\n",
    "    # Fit the grid search\n",
    "    grid_search.fit(X, y)\n",
    "\n",
    "    # Output best parameters and metrics\n",
    "    print(\"Best Parameters:\", grid_search.best_params_)\n",
    "    print(\"Best Accuracy:\", grid_search.best_score_)\n",
    "\n",
    "    return grid_search.best_estimator_\n"
   ]
  },
  {
   "cell_type": "markdown",
   "metadata": {},
   "source": [
    "### RFC"
   ]
  },
  {
   "cell_type": "code",
   "execution_count": 26,
   "metadata": {},
   "outputs": [],
   "source": [
    "from sklearn.ensemble import RandomForestClassifier\n",
    "from sklearn.model_selection import GridSearchCV\n",
    "from sklearn.metrics import accuracy_score, make_scorer\n",
    "\n",
    "def train_random_forest(X, y):\n",
    "    # Simplified hyperparameter grid\n",
    "    param_grid = {\n",
    "        \"min_samples_split\": [2, 10],\n",
    "        \"min_samples_leaf\": [1, 5],\n",
    "        \"n_estimators\": [100, 200],\n",
    "        \"max_depth\": [None, 10]\n",
    "    }\n",
    "\n",
    "    # Define the scoring metric\n",
    "    scoring = make_scorer(accuracy_score)\n",
    "\n",
    "    # Initialize the model\n",
    "    model = RandomForestClassifier(random_state=1)\n",
    "\n",
    "    # GridSearchCV with fewer folds\n",
    "    grid_search = GridSearchCV(\n",
    "        estimator=model,\n",
    "        param_grid=param_grid,\n",
    "        scoring=scoring,\n",
    "        n_jobs=-1,\n",
    "        cv=3,  # Reduced cross-validation splits\n",
    "        verbose=1\n",
    "    )\n",
    "\n",
    "    # Fit the grid search\n",
    "    grid_search.fit(X, y)\n",
    "\n",
    "    # Output the best parameters and the best score\n",
    "    print(\"Best Parameters:\", grid_search.best_params_)\n",
    "    print(\"Best Accuracy:\", grid_search.best_score_)\n",
    "\n",
    "    return grid_search.best_estimator_\n"
   ]
  },
  {
   "cell_type": "markdown",
   "metadata": {},
   "source": [
    "SVM"
   ]
  },
  {
   "cell_type": "code",
   "execution_count": null,
   "metadata": {},
   "outputs": [],
   "source": [
    "from sklearn.svm import SVC\n",
    "from sklearn.model_selection import GridSearchCV\n",
    "from sklearn.metrics import accuracy_score, make_scorer\n",
    "\n",
    "def train_svm(X, y):\n",
    "    # Define a simplified hyperparameter grid\n",
    "    param_grid = {\n",
    "        \"C\": [0.1, 1, 10],\n",
    "        \"gamma\": [\"scale\", \"auto\"],\n",
    "        \"kernel\": [\"rbf\", \"linear\", \"poly\"],\n",
    "        \"degree\": [3, 4]  # Relevant only for `poly` kernel\n",
    "    }\n",
    "\n",
    "    # Define scoring metric\n",
    "    scoring = make_scorer(accuracy_score)\n",
    "\n",
    "    # Initialize the model\n",
    "    model = SVC(class_weight=\"balanced\", random_state=1)\n",
    "\n",
    "    # Perform Grid Search with cross-validation\n",
    "    grid_search = GridSearchCV(\n",
    "        estimator=model,\n",
    "        param_grid=param_grid,\n",
    "        scoring=scoring,\n",
    "        n_jobs=-1,\n",
    "        cv=3,  # Reduced cross-validation folds\n",
    "        verbose=1\n",
    "    )\n",
    "\n",
    "    # Fit the grid search\n",
    "    grid_search.fit(X, y)\n",
    "\n",
    "    # Output best parameters and metrics\n",
    "    print(\"Best Parameters:\", grid_search.best_params_)\n",
    "    print(\"Best Accuracy:\", grid_search.best_score_)\n",
    "\n",
    "    return grid_search.best_estimator_\n"
   ]
  },
  {
   "cell_type": "code",
   "execution_count": 28,
   "metadata": {},
   "outputs": [
    {
     "name": "stdout",
     "output_type": "stream",
     "text": [
      "Fitting 3 folds for each of 2 candidates, totalling 6 fits\n",
      "Best Parameters: {'C': 1, 'penalty': 'l2', 'solver': 'lbfgs'}\n",
      "Best Accuracy: 0.874292266896008\n",
      "Fitting 3 folds for each of 16 candidates, totalling 48 fits\n",
      "Best Parameters: {'max_depth': None, 'min_samples_leaf': 1, 'min_samples_split': 2, 'n_estimators': 200}\n",
      "Best Accuracy: 0.9585035476241668\n",
      "Fitting 3 folds for each of 36 candidates, totalling 108 fits\n",
      "Best Parameters: {'C': 10, 'degree': 3, 'gamma': 'scale', 'kernel': 'rbf'}\n",
      "Best Accuracy: 0.9512649609402996\n"
     ]
    }
   ],
   "source": [
    "train_logistic_regression(X_train, y_train)\n",
    "\n",
    "train_random_forest(X_train, y_train)\n",
    "\n",
    "train_svm(X_train, y_train)"
   ]
  },
  {
   "cell_type": "code",
   "execution_count": null,
   "metadata": {},
   "outputs": [],
   "source": []
  }
 ],
 "metadata": {
  "kernelspec": {
   "display_name": "IntelSis",
   "language": "python",
   "name": "python3"
  },
  "language_info": {
   "codemirror_mode": {
    "name": "ipython",
    "version": 3
   },
   "file_extension": ".py",
   "mimetype": "text/x-python",
   "name": "python",
   "nbconvert_exporter": "python",
   "pygments_lexer": "ipython3",
   "version": "3.12.2"
  }
 },
 "nbformat": 4,
 "nbformat_minor": 4
}
